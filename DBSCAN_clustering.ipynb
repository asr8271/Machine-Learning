{
 "cells": [
  {
   "cell_type": "markdown",
   "id": "7ddc3594-c7a6-47b0-a994-6057ab0f7630",
   "metadata": {},
   "source": [
    "DB-SCAN"
   ]
  },
  {
   "cell_type": "code",
   "execution_count": 34,
   "id": "c36a0fe2-6166-4ff0-8efd-d064a0b5f76d",
   "metadata": {},
   "outputs": [],
   "source": [
    "import pandas as pd"
   ]
  },
  {
   "cell_type": "markdown",
   "id": "153b12f9-9d6e-4510-a353-ba4e60775f5b",
   "metadata": {},
   "source": [
    "Have imported all the necessary libraries"
   ]
  },
  {
   "cell_type": "code",
   "execution_count": 35,
   "id": "9257c8b6-8e9e-42dd-93ff-e13dff9f49e6",
   "metadata": {},
   "outputs": [],
   "source": [
    "import numpy as np\n",
    "import matplotlib.pyplot as plt\n",
    "import queue\n",
    "from scipy.io import arff\n",
    "import seaborn as sns\n",
    "from sklearn.preprocessing import StandardScaler"
   ]
  },
  {
   "cell_type": "markdown",
   "id": "3ed7fee4-db14-4fd5-b2f6-76ae6687bbdf",
   "metadata": {},
   "source": [
    "Function for calculating distance of each data points with other data points using Euclidean Distance Formula.\n",
    "And then compared it with epsilon , if its less then append it in points."
   ]
  },
  {
   "cell_type": "code",
   "execution_count": 36,
   "id": "589e2d43-80e0-48bd-829f-eadc6f701d3a",
   "metadata": {},
   "outputs": [],
   "source": [
    "def neighbour(data, pointId, epsilon):\n",
    "    points = []\n",
    "    for i in range(len(data)):\n",
    "        # Euclidian distance\n",
    "        if np.linalg.norm([a_i - b_i for a_i, b_i in zip(data[i], data[pointId])]) <= epsilon:\n",
    "            points.append(i)\n",
    "    return points"
   ]
  },
  {
   "cell_type": "markdown",
   "id": "02f94daa-8532-4fe1-817c-cc724bdbe467",
   "metadata": {},
   "source": [
    "DBSCAN Function\n",
    "Here, I have passed normalised data along with epsilon and min points.\n",
    "I have intialised a Queue to put all neigbour core point in queue and find neigbour's neigbour."
   ]
  },
  {
   "cell_type": "code",
   "execution_count": 37,
   "id": "30f0b7ad-d621-4383-a929-33966886f545",
   "metadata": {},
   "outputs": [],
   "source": [
    "def dbscan(data,Eps,MinPt):\n",
    "    point_label = [0] * len(data)\n",
    "    point_count = []\n",
    "    core = []\n",
    "    noncore =[]\n",
    "    border = []\n",
    "    for i in range(len(data)):\n",
    "        point_count.append(neighbour(data, i, Eps))\n",
    "    \n",
    "    for i in range(len(point_count)):                       #checking if count greater than minpts then append it in core\n",
    "        if (len(point_count[i]) >= MinPt):                  #else in noncore points\n",
    "            point_label[i] = core\n",
    "            core.append(i)\n",
    "        else:\n",
    "            noncore.append(i)                                #Finding all core points, border and noise\n",
    "\n",
    "    for i in border:\n",
    "        for j in point_count[i]:\n",
    "            if j in core:\n",
    "                point_label[i] = border\n",
    "                border.append(i)\n",
    "                break\n",
    "     \n",
    "    C=1\n",
    "    for i in range(len(point_label)):\n",
    "        q = queue.Queue()                                        #Initialization of Queue\n",
    "        if (point_label[i] == core):\n",
    "            point_label[i] = C\n",
    "            for x in point_count[i]:\n",
    "                if(point_label[x] == core):\n",
    "                    q.put(x)\n",
    "                    point_label[x] = C\n",
    "                elif(point_label[x] == border):\n",
    "                    point_label[x] = C\n",
    "            while not q.empty():\n",
    "                neighbors = point_count[q.get()]\n",
    "                for y in neighbors:\n",
    "                    if (point_label[y] == core):\n",
    "                        point_label[y] = C\n",
    "                        q.put(y)\n",
    "                    if (point_label[y] == border):\n",
    "                        point_label[y] = C\n",
    "            C += 1  # Move on to the next cluster\n",
    "    print(\"no. of clusters are: \", end = ' ')\n",
    "    print(C-1)       \n",
    "    return core,border,point_label, C\n"
   ]
  },
  {
   "cell_type": "markdown",
   "id": "eed1f707-a98d-4baf-b256-c16ebb88ac7d",
   "metadata": {},
   "source": [
    "plotResult function is used for plotting core & border points ."
   ]
  },
  {
   "cell_type": "code",
   "execution_count": 38,
   "id": "1868c484-b759-4348-9ff7-512314ca8297",
   "metadata": {},
   "outputs": [],
   "source": [
    "def plotResult(data, clusterRes, clusterNum,core,border):\n",
    "    nPoints = len(data)\n",
    "    scatterColors = ['black', 'green', 'brown', 'red', 'purple', 'orange', 'yellow']\n",
    "    for i in range(clusterNum):\n",
    "\n",
    "      color = scatterColors[i % len(scatterColors)]\n",
    "      x1 = [];  y1 = []\n",
    "      for j in range(nPoints):\n",
    "          if clusterRes[j] == i:\n",
    "              x1.append(data[j, 1])\n",
    "              y1.append(data[j, 5])                                       #for Cluster 1 only\n",
    "      plt.scatter(x1, y1, c=color, alpha=1, marker='.')\n",
    "    \n",
    "    #first cluster core point\n",
    "    c1core = []\n",
    "    for point in core:\n",
    "      if clusterRes[point] == 1:\n",
    "        # length = length + 1\n",
    "        c1core.append(point)\n",
    "    print(\"Cluster 1 core points:\", c1core)\n",
    "\n",
    "    #first cluster core point\n",
    "    c1border = []\n",
    "    for point in border:\n",
    "      if clusterRes[point] == 1:\n",
    "        # length = length + 1\n",
    "        c1border.append(point)\n",
    "    print(\"Cluster 1 borders:\", c1border)"
   ]
  },
  {
   "cell_type": "markdown",
   "id": "b93f5c24-a97a-413c-a685-2294115c17c9",
   "metadata": {},
   "source": [
    "Our Main Function in which i have called dbscan function AND plotResult Function."
   ]
  },
  {
   "cell_type": "code",
   "execution_count": 39,
   "id": "b1ad68a9-b953-44be-adbe-32c2e16d8252",
   "metadata": {},
   "outputs": [],
   "source": [
    "import collections\n",
    "def main():\n",
    "    df = arff.loadarff('diabetes1.arff')\n",
    "    df = pd.DataFrame(df[0])\n",
    "    df = df.drop(['class'], axis = 1)\n",
    "    data = df.iloc[:,0:8]\n",
    "    data = df.values\n",
    " \n",
    "    noise = 0\n",
    "    unvisited = 0\n",
    "    core=-1\n",
    "    edge=-2\n",
    "    X = StandardScaler().fit_transform(data)\n",
    "    core,border,point_label, C = dbscan(X, 2, 5)\n",
    "    print(core,border,point_label, C)\n",
    "    plotResult(X, point_label, C,core,border)\n",
    "    plt.show()\n",
    "    print('number of cluster found: ' + str(C-1))\n",
    "    counter=collections.Counter(point_label)\n",
    "    print(counter)\n",
    "    noise  = point_label.count(0)\n",
    "    print('number of Noise found: '+str(noise) +'\\n')"
   ]
  },
  {
   "cell_type": "code",
   "execution_count": 40,
   "id": "bf3e2d70-e4cb-4cba-8234-408ead91356a",
   "metadata": {},
   "outputs": [
    {
     "name": "stdout",
     "output_type": "stream",
     "text": [
      "no. of clusters are:  3\n",
      "[0, 1, 2, 3, 5, 6, 7, 10, 11, 14, 15, 16, 17, 18, 19, 20, 21, 22, 23, 24, 25, 26, 27, 29, 30, 31, 32, 33, 34, 35, 36, 37, 38, 40, 41, 42, 44, 46, 47, 48, 49, 50, 51, 52, 53, 54, 55, 56, 57, 59, 60, 61, 62, 63, 64, 65, 66, 68, 69, 70, 71, 72, 73, 74, 76, 77, 78, 79, 80, 81, 82, 83, 84, 85, 86, 87, 88, 89, 90, 91, 92, 93, 94, 95, 96, 97, 98, 99, 101, 102, 103, 104, 105, 107, 108, 109, 110, 111, 112, 113, 114, 115, 116, 117, 118, 119, 121, 122, 123, 124, 126, 127, 128, 129, 130, 131, 132, 133, 134, 135, 136, 137, 138, 139, 140, 141, 142, 143, 144, 146, 147, 148, 149, 150, 151, 152, 153, 154, 156, 157, 158, 160, 161, 162, 163, 164, 165, 166, 167, 168, 169, 170, 171, 173, 174, 175, 176, 178, 179, 180, 181, 183, 184, 185, 188, 189, 190, 191, 192, 194, 195, 196, 197, 198, 199, 200, 201, 202, 203, 204, 205, 206, 207, 208, 209, 210, 211, 213, 214, 215, 216, 217, 218, 219, 222, 223, 224, 225, 226, 227, 229, 230, 232, 233, 234, 235, 236, 237, 238, 239, 240, 241, 242, 243, 244, 246, 248, 249, 250, 251, 252, 253, 255, 256, 257, 260, 261, 262, 263, 264, 265, 266, 267, 268, 269, 271, 272, 273, 274, 275, 276, 277, 278, 279, 280, 281, 282, 283, 284, 285, 287, 288, 289, 290, 291, 292, 293, 295, 296, 297, 298, 299, 300, 301, 302, 304, 305, 306, 307, 308, 309, 310, 311, 312, 313, 314, 315, 316, 317, 318, 319, 320, 321, 322, 323, 324, 325, 326, 327, 328, 329, 331, 333, 334, 335, 337, 338, 339, 340, 341, 343, 344, 345, 346, 347, 348, 350, 351, 352, 353, 354, 355, 356, 358, 359, 360, 361, 363, 364, 365, 366, 367, 368, 369, 372, 373, 374, 376, 377, 378, 379, 380, 381, 382, 383, 384, 385, 386, 387, 388, 389, 390, 391, 392, 393, 394, 396, 397, 398, 399, 400, 401, 402, 403, 404, 405, 406, 407, 409, 410, 411, 412, 413, 414, 415, 416, 417, 418, 419, 420, 421, 422, 423, 424, 425, 426, 427, 428, 429, 430, 431, 432, 433, 434, 435, 436, 437, 438, 439, 441, 442, 443, 444, 446, 447, 448, 449, 450, 451, 452, 454, 456, 457, 458, 460, 461, 462, 463, 465, 466, 467, 468, 469, 470, 471, 472, 473, 474, 475, 476, 477, 478, 479, 480, 481, 482, 483, 484, 485, 486, 488, 489, 490, 491, 492, 493, 494, 495, 496, 497, 499, 500, 501, 503, 504, 505, 506, 507, 508, 509, 510, 511, 512, 513, 514, 515, 516, 517, 518, 520, 521, 522, 523, 524, 525, 526, 527, 528, 529, 530, 531, 532, 533, 534, 535, 536, 538, 539, 540, 541, 542, 543, 544, 545, 546, 547, 548, 550, 551, 552, 553, 554, 555, 556, 557, 558, 559, 560, 561, 562, 563, 564, 565, 566, 567, 568, 569, 570, 571, 572, 573, 574, 575, 576, 577, 578, 580, 581, 582, 583, 585, 586, 587, 589, 591, 592, 593, 594, 595, 597, 598, 599, 600, 601, 602, 603, 605, 607, 608, 609, 610, 611, 612, 613, 614, 615, 616, 617, 618, 619, 620, 623, 624, 625, 626, 627, 628, 629, 630, 631, 632, 633, 634, 635, 636, 637, 638, 639, 640, 641, 642, 643, 644, 645, 646, 647, 648, 649, 650, 651, 652, 653, 654, 655, 656, 657, 658, 659, 660, 663, 664, 665, 666, 667, 668, 669, 670, 671, 674, 675, 676, 677, 678, 679, 680, 681, 682, 683, 685, 686, 687, 688, 689, 690, 692, 693, 694, 696, 697, 698, 699, 700, 701, 703, 704, 705, 707, 708, 709, 710, 711, 712, 713, 714, 716, 717, 718, 719, 720, 721, 722, 723, 724, 725, 726, 727, 728, 729, 730, 731, 732, 733, 734, 735, 736, 737, 738, 739, 740, 741, 742, 743, 744, 745, 746, 747, 748, 749, 750, 751, 752, 753, 754, 755, 756, 757, 758, 759, 760, 761, 762, 764, 765, 766, 767] [] [1, 1, 1, 1, 0, 1, 1, 2, 0, 0, 1, 1, 0, 0, 1, 2, 1, 1, 1, 1, 1, 1, 1, 1, 1, 1, 1, 1, 0, 1, 1, 1, 1, 1, 1, 1, 1, 1, 1, 0, 1, 1, 1, 0, 1, 0, 1, 1, 1, 3, 1, 1, 1, 1, 1, 1, 1, 1, 0, 1, 3, 1, 1, 1, 1, 1, 1, 0, 1, 1, 1, 1, 1, 1, 1, 0, 1, 1, 2, 1, 1, 3, 1, 1, 1, 1, 1, 1, 1, 1, 1, 1, 1, 1, 1, 1, 1, 1, 1, 1, 0, 1, 1, 1, 1, 1, 0, 1, 1, 1, 1, 1, 1, 1, 1, 1, 1, 1, 1, 1, 0, 1, 1, 1, 1, 0, 1, 1, 1, 1, 1, 1, 1, 1, 1, 1, 1, 1, 1, 1, 1, 1, 1, 1, 1, 0, 1, 1, 1, 1, 1, 1, 1, 1, 1, 0, 1, 1, 1, 0, 1, 1, 1, 1, 1, 1, 1, 1, 1, 1, 1, 1, 0, 1, 1, 1, 1, 0, 1, 1, 1, 1, 0, 1, 1, 1, 0, 0, 1, 1, 1, 1, 1, 0, 1, 1, 1, 1, 1, 1, 1, 1, 1, 1, 1, 1, 1, 1, 1, 1, 1, 1, 0, 1, 1, 1, 1, 1, 1, 1, 0, 0, 2, 1, 1, 1, 1, 1, 0, 1, 1, 0, 1, 1, 1, 1, 1, 1, 1, 1, 1, 1, 1, 1, 1, 0, 1, 0, 1, 1, 1, 1, 1, 1, 0, 1, 1, 1, 0, 0, 1, 2, 1, 1, 1, 1, 2, 1, 1, 2, 0, 1, 1, 1, 1, 1, 1, 1, 1, 1, 1, 1, 1, 1, 1, 1, 0, 1, 1, 1, 1, 1, 1, 1, 0, 1, 1, 1, 1, 1, 2, 1, 1, 0, 1, 1, 1, 1, 1, 1, 1, 1, 1, 1, 1, 1, 1, 1, 1, 1, 1, 1, 1, 1, 1, 1, 1, 1, 1, 1, 0, 1, 0, 1, 1, 1, 0, 1, 1, 1, 1, 1, 0, 1, 1, 1, 1, 2, 1, 0, 1, 1, 1, 1, 1, 1, 1, 0, 1, 1, 1, 1, 0, 1, 1, 1, 1, 1, 1, 1, 0, 0, 1, 1, 1, 0, 1, 1, 1, 1, 1, 1, 1, 1, 1, 1, 1, 1, 1, 1, 1, 1, 1, 1, 1, 0, 1, 1, 1, 1, 1, 1, 1, 1, 1, 1, 1, 1, 0, 1, 1, 1, 1, 1, 1, 1, 1, 1, 1, 1, 1, 1, 1, 1, 1, 1, 3, 1, 1, 1, 2, 1, 1, 1, 1, 2, 1, 1, 1, 1, 0, 1, 1, 1, 1, 0, 1, 1, 1, 1, 1, 1, 1, 0, 1, 0, 1, 1, 1, 0, 1, 1, 1, 1, 0, 1, 1, 1, 2, 1, 1, 1, 1, 1, 1, 1, 1, 1, 1, 1, 1, 1, 1, 1, 2, 1, 1, 0, 1, 1, 1, 1, 1, 1, 3, 1, 1, 1, 0, 1, 1, 1, 0, 1, 1, 1, 1, 1, 1, 1, 1, 1, 1, 1, 1, 1, 1, 1, 1, 0, 1, 1, 3, 1, 1, 1, 1, 1, 1, 1, 1, 1, 1, 2, 1, 2, 1, 0, 1, 1, 1, 1, 1, 1, 1, 1, 1, 1, 1, 0, 1, 1, 1, 1, 1, 1, 1, 1, 1, 1, 1, 1, 1, 1, 1, 1, 1, 1, 1, 1, 1, 1, 1, 1, 1, 1, 1, 1, 1, 0, 1, 1, 1, 1, 0, 1, 1, 1, 0, 2, 0, 1, 1, 1, 1, 1, 0, 1, 1, 1, 1, 2, 1, 1, 0, 1, 0, 1, 1, 1, 1, 1, 1, 1, 1, 1, 1, 1, 1, 2, 1, 0, 0, 1, 1, 1, 1, 1, 1, 1, 1, 1, 1, 1, 1, 1, 1, 1, 1, 1, 1, 1, 1, 2, 1, 1, 1, 1, 1, 1, 1, 1, 1, 1, 1, 1, 1, 1, 1, 1, 1, 0, 0, 1, 1, 1, 1, 1, 1, 1, 1, 1, 0, 0, 1, 1, 1, 1, 1, 1, 1, 1, 1, 1, 0, 1, 1, 1, 1, 1, 1, 0, 1, 1, 1, 0, 1, 2, 1, 1, 1, 1, 0, 2, 1, 1, 0, 1, 1, 1, 1, 1, 1, 1, 1, 0, 1, 1, 1, 1, 1, 1, 1, 1, 1, 1, 1, 1, 1, 1, 1, 1, 1, 1, 1, 1, 1, 1, 1, 1, 1, 1, 1, 1, 1, 1, 1, 1, 1, 1, 1, 1, 1, 1, 1, 1, 1, 1, 1, 1, 1, 1, 1, 0, 1, 1, 1, 1] 4\n",
      "Cluster 1 core points: [0, 1, 2, 3, 5, 6, 10, 11, 14, 16, 17, 18, 19, 20, 21, 22, 23, 24, 25, 26, 27, 29, 30, 31, 32, 33, 34, 35, 36, 37, 38, 40, 41, 42, 44, 46, 47, 48, 50, 51, 52, 53, 54, 55, 56, 57, 59, 61, 62, 63, 64, 65, 66, 68, 69, 70, 71, 72, 73, 74, 76, 77, 79, 80, 82, 83, 84, 85, 86, 87, 88, 89, 90, 91, 92, 93, 94, 95, 96, 97, 98, 99, 101, 102, 103, 104, 105, 107, 108, 109, 110, 111, 112, 113, 114, 115, 116, 117, 118, 119, 121, 122, 123, 124, 126, 127, 128, 129, 130, 131, 132, 133, 134, 135, 136, 137, 138, 139, 140, 141, 142, 143, 144, 146, 147, 148, 149, 150, 151, 152, 153, 154, 156, 157, 158, 160, 161, 162, 163, 164, 165, 166, 167, 168, 169, 170, 171, 173, 174, 175, 176, 178, 179, 180, 181, 183, 184, 185, 188, 189, 190, 191, 192, 194, 195, 196, 197, 198, 199, 200, 201, 202, 203, 204, 205, 206, 207, 208, 209, 210, 211, 213, 214, 215, 216, 217, 218, 219, 223, 224, 225, 226, 227, 229, 230, 232, 233, 234, 235, 236, 237, 238, 239, 240, 241, 242, 243, 244, 246, 248, 249, 250, 251, 252, 253, 255, 256, 257, 260, 262, 263, 264, 265, 267, 268, 271, 272, 273, 274, 275, 276, 277, 278, 279, 280, 281, 282, 283, 284, 285, 287, 288, 289, 290, 291, 292, 293, 295, 296, 297, 298, 299, 301, 302, 304, 305, 306, 307, 308, 309, 310, 311, 312, 313, 314, 315, 316, 317, 318, 319, 320, 321, 322, 323, 324, 325, 326, 327, 328, 329, 331, 333, 334, 335, 337, 338, 339, 340, 341, 343, 344, 345, 346, 348, 350, 351, 352, 353, 354, 355, 356, 358, 359, 360, 361, 363, 364, 365, 366, 367, 368, 369, 372, 373, 374, 376, 377, 378, 379, 380, 381, 382, 383, 384, 385, 386, 387, 388, 389, 390, 391, 392, 393, 394, 396, 397, 398, 399, 400, 401, 402, 403, 404, 405, 406, 407, 409, 410, 411, 412, 413, 414, 415, 416, 417, 418, 419, 420, 421, 422, 423, 424, 425, 427, 428, 429, 431, 432, 433, 434, 436, 437, 438, 439, 441, 442, 443, 444, 446, 447, 448, 449, 450, 451, 452, 454, 456, 457, 458, 460, 461, 462, 463, 465, 466, 467, 469, 470, 471, 472, 473, 474, 475, 476, 477, 478, 479, 480, 481, 482, 483, 485, 486, 488, 489, 490, 491, 492, 493, 495, 496, 497, 499, 500, 501, 503, 504, 505, 506, 507, 508, 509, 510, 511, 512, 513, 514, 515, 516, 517, 518, 520, 521, 523, 524, 525, 526, 527, 528, 529, 530, 531, 532, 534, 536, 538, 539, 540, 541, 542, 543, 544, 545, 546, 547, 548, 550, 551, 552, 553, 554, 555, 556, 557, 558, 559, 560, 561, 562, 563, 564, 565, 566, 567, 568, 569, 570, 571, 572, 573, 574, 575, 576, 577, 578, 580, 581, 582, 583, 585, 586, 587, 591, 592, 593, 594, 595, 597, 598, 599, 600, 602, 603, 605, 607, 608, 609, 610, 611, 612, 613, 614, 615, 616, 617, 618, 620, 623, 624, 625, 626, 627, 628, 629, 630, 631, 632, 633, 634, 635, 636, 637, 638, 639, 640, 641, 642, 644, 645, 646, 647, 648, 649, 650, 651, 652, 653, 654, 655, 656, 657, 658, 659, 660, 663, 664, 665, 666, 667, 668, 669, 670, 671, 674, 675, 676, 677, 678, 679, 680, 681, 682, 683, 685, 686, 687, 688, 689, 690, 692, 693, 694, 696, 698, 699, 700, 701, 704, 705, 707, 708, 709, 710, 711, 712, 713, 714, 716, 717, 718, 719, 720, 721, 722, 723, 724, 725, 726, 727, 728, 729, 730, 731, 732, 733, 734, 735, 736, 737, 738, 739, 740, 741, 742, 743, 744, 745, 746, 747, 748, 749, 750, 751, 752, 753, 754, 755, 756, 757, 758, 759, 760, 761, 762, 764, 765, 766, 767]\n",
      "Cluster 1 borders: []\n"
     ]
    },
    {
     "data": {
      "image/png": "[encoded data removed]",
      "text/plain": [
       "<Figure size 432x288 with 1 Axes>"
      ]
     },
     "metadata": {
      "needs_background": "light"
     },
     "output_type": "display_data"
    },
    {
     "name": "stdout",
     "output_type": "stream",
     "text": [
      "number of cluster found: 3\n",
      "Counter({1: 658, 0: 83, 2: 21, 3: 6})\n",
      "number of Noise found: 83\n",
      "\n"
     ]
    }
   ],
   "source": [
    "if __name__ == \"__main__\":\n",
    "    main()                                                       #calling main function"
   ]
  },
  {
   "cell_type": "code",
   "execution_count": null,
   "id": "50084405-ec80-4f48-a0b9-9dd1635523b7",
   "metadata": {},
   "outputs": [],
   "source": []
  }
 ],
 "metadata": {
  "kernelspec": {
   "display_name": "Python 3 (ipykernel)",
   "language": "python",
   "name": "python3"
  },
  "language_info": {
   "codemirror_mode": {
    "name": "ipython",
    "version": 3
   },
   "file_extension": ".py",
   "mimetype": "text/x-python",
   "name": "python",
   "nbconvert_exporter": "python",
   "pygments_lexer": "ipython3",
   "version": "3.8.7rc1"
  }
 },
 "nbformat": 4,
 "nbformat_minor": 5
}
